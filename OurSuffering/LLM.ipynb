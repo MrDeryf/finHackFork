{
 "cells": [
  {
   "cell_type": "markdown",
   "id": "05e8ce5d",
   "metadata": {},
   "source": [
    "## Тут мы с Лизой будем возиться с ЛЛМ-кой"
   ]
  },
  {
   "cell_type": "code",
   "execution_count": 1,
   "id": "3b9c7a7b",
   "metadata": {},
   "outputs": [],
   "source": [
    "import dotenv\n",
    "\n",
    "keys = dotenv.dotenv_values()"
   ]
  }
 ],
 "metadata": {
  "kernelspec": {
   "display_name": ".venv",
   "language": "python",
   "name": "python3"
  },
  "language_info": {
   "codemirror_mode": {
    "name": "ipython",
    "version": 3
   },
   "file_extension": ".py",
   "mimetype": "text/x-python",
   "name": "python",
   "nbconvert_exporter": "python",
   "pygments_lexer": "ipython3",
   "version": "3.13.6"
  }
 },
 "nbformat": 4,
 "nbformat_minor": 5
}
